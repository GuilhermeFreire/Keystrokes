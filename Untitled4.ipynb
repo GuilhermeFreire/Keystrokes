{
 "cells": [
  {
   "cell_type": "code",
   "execution_count": 1,
   "metadata": {
    "collapsed": true
   },
   "outputs": [],
   "source": [
    "import numpy as np\n",
    "import matplotlib.pyplot as plt"
   ]
  },
  {
   "cell_type": "code",
   "execution_count": 30,
   "metadata": {},
   "outputs": [
    {
     "data": {
      "image/png": "[encoded data removed]",
      "text/plain": [
       "<matplotlib.figure.Figure at 0x113f2bcc0>"
      ]
     },
     "metadata": {},
     "output_type": "display_data"
    }
   ],
   "source": [
    "direction = np.array([1, np.sqrt(2)])\n",
    "ortho = np.array([np.sqrt(2), -1])\n",
    "\n",
    "plt.figure(figsize=(6,6))\n",
    "plt.xlim(-0.1, 1.5)\n",
    "plt.ylim(-0.1, 1.5)\n",
    "# plt.plot([0,direction[0]], [0, direction[1]], c=\"#BF3E3C\")\n",
    "# plt.plot([0.5,0.5 + ortho[0] * 0.1], [0.7, 0.7 + ortho[1] * 0.1], c=\"orange\")\n",
    "\n",
    "np.random.seed(1234)\n",
    "coefs = np.random.rand(100)\n",
    "coefs2 = np.random.rand(100) * 0.1\n",
    "coefs2 -= np.mean(coefs2)\n",
    "points = np.zeros((100,2))\n",
    "for i, c in enumerate(coefs):\n",
    "    points[i] = direction * c + coefs2[i] * ortho\n",
    "    \n",
    "plt.scatter(points[:,0], points[:,1])\n",
    "plt.show()"
   ]
  }
 ],
 "metadata": {
  "kernelspec": {
   "display_name": "Python 3",
   "language": "python",
   "name": "python3"
  },
  "language_info": {
   "codemirror_mode": {
    "name": "ipython",
    "version": 3
   },
   "file_extension": ".py",
   "mimetype": "text/x-python",
   "name": "python",
   "nbconvert_exporter": "python",
   "pygments_lexer": "ipython3",
   "version": "3.5.2"
  }
 },
 "nbformat": 4,
 "nbformat_minor": 2
}
