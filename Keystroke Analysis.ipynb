{
 "cells": [
  {
   "cell_type": "markdown",
   "metadata": {},
   "source": [
    "# Análise de Usuários através de Keystrokes"
   ]
  },
  {
   "cell_type": "markdown",
   "metadata": {},
   "source": [
    "Nesse trabalho, busco explorar o quanto o modo como um usuário digita diz sobre ele. É possível dicerní-lo de outros apenas por seu padrão de digitação? Conseguimos agrupar usuários que digitam de forma parecida? O que mais é possível extrair de dados de telcas?"
   ]
  },
  {
   "cell_type": "markdown",
   "metadata": {},
   "source": [
    "## Motivação\n",
    "\n",
    "Qual a utilidade de ser se estudar padrões de digitação de um usuário?\n",
    "\n",
    "Assumindo que cada usuário tem um padrão de digitação único, ou pelo menos razoavelmente único, é possível pensar em uma tarefa de identificação. Sites como o Coursera utilizam esses dados justamente para julgar se um aluno realmente está fazendo os deveres do curso. Logo quando um usuário se cadastra, ele deve digitar um parágrafo para que um perfil associado seja criado. Esse perfil é então comparado posteriormente aos textos (códigos ou respostas discursivas) escritos pelo aluno. Por ser utilizado por tanto tempo na plataforma, podemos suspeitar que esse tipo de dado é um bom indicativo de unicidade.\n",
    "\n",
    "Outra aplicação possível é identificação de usuários fazendo login. Se um sistema for capaz de identificar o usuário pelo modo como digita, uma camada a mais de segurança pode ser criada. Afinal, não basta saber a senha da conta, é necessário digitar como o dono original digita. Dessa forma, fraudes por senhas vazadas, bancos de dados comprometidos, ou até mesmo senhas anotadas em _post-its_ no monitor podem ser evitadas.\n",
    "\n",
    "Para o caso de uso da senha é interessante notar um detalhe que é o não envio da senha em _plain text_ ao servidor verificador. É extremamente comum - se crucial para uma base mínima de segurança - que a senha de um usuário não trafegue a rede em _plain text_. Isso porque é muito fácil um malfeitor capturar dados transientes em uma rede (principalmente pública). Dessa forma, se a senha não tiver nenhum mecanismo de proteção, a conta do usuário estará comprometida.\n",
    "\n",
    "O que normalmente ocorre é o envio de um _hash_ da senha. O _hash_ nada mais é do que uma função que leva uma entrada a uma saída de forma simples, mas garante que a inversão (sabendo uma saída, encontrar a entrada correspondente) é uma tarefa árdua. Utilizando esse método, sites que permitem fazer login não precisam guardar as senhas de seus usuários, basta guardar os hashes das senhas. Afinal, como cada senha sempre produz o mesmo hash, é possível comparar hashes para saber se a senha está correta. Aplicando essa metodologia, mesmo que ocorra um vazamento de senhas ou uma senha seja fisgada em trânsito, o segredo está seguro. Apenas o hash foi comprometido e como dito acima, hashes são difíceis de reverter.\n",
    "\n",
    "O que isso implica na utilização de dados de digitação para verificação do usuário? Imediatamente, significa que não se pode utilizar as teclas nem os tempos de digitação entre elas para tirar tais conclusões. Afinal, se isso fosse utilizado, todo o propósito de não enviar a senha em _plain text_ estará perdido. Soluções mais criativas terão que ser utilizadas, como veremos a frente."
   ]
  },
  {
   "cell_type": "markdown",
   "metadata": {},
   "source": [
    "## Dataset\n",
    "\n",
    "Para começar a exploração desse tópico, escolhi um dataset famoso de dados de _keystrokes_. O dataset é conhecido como _CMU Keystroke Dynamics – Benchmark Data Set_.\n",
    "\n",
    "### Contrução do dataset\n",
    "\n",
    "Esse dataset foi montado com dados de 51 pessoas diferentes digitando a senha `.tie5Roanl` repetidas vezes. Ao todo foram 400 repetições por pessoa espaçadas em sessões distintas. Em cada sessão a pessoa digitava a senha 50 vezes, implicando num total de 8 sessões que foram feitas com pelo menos um dia de folga entre elas para capturar a variação de padrões de digitação ao longo de dias.\n",
    "\n",
    "### Dados coletados\n",
    "\n",
    "Resta, agora, sabermos que métricas foram efetivamente coletadas e armazenadas nesse dataset. Cada sessão de coleta captura três tipos de dados: `Hold`, `Down-Down`, `Up-Down`.\n",
    "\n",
    "![Métricas coletadas](data_explanation.jpg)\n",
    "\n",
    "- Hold: Mede o tempo que uma tecla foi pressionada (desde o momento que foi abaixada até quando é solta).\n",
    "- Down-Down: Mede o tempo entre uma tecla ser abaixada e a próxima ser abaixada.\n",
    "- Up-Down: Mede o tempo entre uma tecla ser solta e a próxima abaixada.\n",
    "\n",
    "Dessa forma, como o texto digitado foi `.tie5Roanl`, cada entrada do dataset será composta dos seguintes atributos:\n",
    "\n",
    "```\n",
    "subject,sessionIndex,rep,H.period,DD.period.t,UD.period.t,H.t,DD.t.i,UD.t.i, ... , H.n,DD.n.l,UD.n.l,H.l,DD.l.Return,UD.l.Return,H.Return\n",
    "```\n",
    "\n",
    "O primeiro parâmetro indica qual participante digitou essa entrada do dataset. O atributo `sessionIndex` indica a qual sessão essa captura faz parte e `rep` qual a repetição dentro dessa sessão. A partir desse ponto começam as medidas de tempo. O primeiro campo, `H.period`, indica o tempo que a tecla de _ponto final_ ficou pressionada (_Hold period_). Em seguida, temos `DD.period.t` que indica o tempo entre a tecla de _ponto final_ ser pressionada para baixo e a tecla `t` ser pressionada para baixo (_Down-Down period t_). Analogamente, `UD.period.t` mostra o tempo entre soltar o _ponto final_ e pressionar a tecla `t`. As mesmas três métricas se repetem para as próximas teclas da senha. É importante notar que a tecla `Enter` foi pressionada ao final da digitação e é expressa no dataset por meio do termo _Return_."
   ]
  },
  {
   "cell_type": "markdown",
   "metadata": {},
   "source": [
    "## Análise inicial dos dados\n",
    "\n",
    "Sabendo como o dataset foi construído, comecemos por tentar entender seus dados. Comecemos por uma redução de dimensionalidade para ser possível desenhar um plot 2D dos pontos. Com isso teremos alguma ideia de como os dados se comportam."
   ]
  },
  {
   "cell_type": "code",
   "execution_count": 1,
   "metadata": {},
   "outputs": [],
   "source": [
    "import numpy as np\n",
    "import matplotlib.pyplot as plt\n",
    "from copy import deepcopy"
   ]
  },
  {
   "cell_type": "markdown",
   "metadata": {},
   "source": [
    "Comecemos por ler os dados do arquivo em que estão salvos e separá-los por linhas. Aqui também jogaremos o cabeçalho fora, visto que não será utilizado nas manipulações e já temos uma descrição dos dados acima."
   ]
  },
  {
   "cell_type": "code",
   "execution_count": 2,
   "metadata": {},
   "outputs": [],
   "source": [
    "# Lendo dados do arquivo\n",
    "with open(\"DSL-StrongPasswordData.csv\") as f:\n",
    "    data = np.array([line.split(\",\") for line in f.read().strip().split(\"\\n\")[1:]])"
   ]
  },
  {
   "cell_type": "markdown",
   "metadata": {},
   "source": [
    "Agora, separemos os identificadores de usuários dos dados propriamente ditos."
   ]
  },
  {
   "cell_type": "code",
   "execution_count": 3,
   "metadata": {},
   "outputs": [
    {
     "name": "stdout",
     "output_type": "stream",
     "text": [
      "[['s002' '1' '1']\n",
      " ['s002' '1' '2']] \n",
      " [[ 0.1491  0.3979  0.2488  0.1069  0.1674  0.0605  0.1169  0.2212  0.1043\n",
      "   0.1417  1.1885  1.0468  0.1146  1.6055  1.4909  0.1067  0.759   0.6523\n",
      "   0.1016  0.2136  0.112   0.1349  0.1484  0.0135  0.0932  0.3515  0.2583\n",
      "   0.1338  0.3509  0.2171  0.0742]\n",
      " [ 0.1111  0.3451  0.234   0.0694  0.1283  0.0589  0.0908  0.1357  0.0449\n",
      "   0.0829  1.197   1.1141  0.0689  0.7822  0.7133  0.157   0.7877  0.6307\n",
      "   0.1066  0.1684  0.0618  0.1412  0.2558  0.1146  0.1146  0.2642  0.1496\n",
      "   0.0839  0.2756  0.1917  0.0747]]\n"
     ]
    }
   ],
   "source": [
    "# Formatando os dados\n",
    "recordings, keystrokes = data[:,:3], data[:,3:].astype(float)\n",
    "print(recordings[:2], \"\\n\", keystrokes[:2])"
   ]
  },
  {
   "cell_type": "markdown",
   "metadata": {},
   "source": [
    "Para termos certeza de que tudo está coerente no dataset, verifiquemos a quantidade de colunas da matriz e comparemos com o tamanho do que foi digitado."
   ]
  },
  {
   "cell_type": "code",
   "execution_count": 4,
   "metadata": {},
   "outputs": [
    {
     "name": "stdout",
     "output_type": "stream",
     "text": [
      "Número de teclas na digitação da senha: 11\n",
      "Número de colunas na matriz do dataset: 31\n"
     ]
    }
   ],
   "source": [
    "password = \".tie5Roanl\\n\" # Lembrando que o enter é pressionado ao final da senha\n",
    "print(\"Número de teclas na digitação da senha: {}\".format(len(password)))\n",
    "print(\"Número de colunas na matriz do dataset: {}\".format(keystrokes.shape[1]))"
   ]
  },
  {
   "cell_type": "markdown",
   "metadata": {},
   "source": [
    "Exatamente como o esperado. Afinal, temos três medições por tecla pressionada (exceto a última) e temos 11 teclas pressionadas. Como não há teclas após o `Enter`, essa tecla só terá a métrica de `Hold` medida. Isso totalizará em exatas **31 medições**, como imaginávamos."
   ]
  },
  {
   "cell_type": "markdown",
   "metadata": {},
   "source": [
    "Verifiquemos agora o número de usuários no dataset."
   ]
  },
  {
   "cell_type": "code",
   "execution_count": 5,
   "metadata": {},
   "outputs": [
    {
     "name": "stdout",
     "output_type": "stream",
     "text": [
      "Identificadores de usuários: ['s002', 's003', 's004', 's005', 's007', 's008', 's010', 's011', 's012', 's013', 's015', 's016', 's017', 's018', 's019', 's020', 's021', 's022', 's024', 's025', 's026', 's027', 's028', 's029', 's030', 's031', 's032', 's033', 's034', 's035', 's036', 's037', 's038', 's039', 's040', 's041', 's042', 's043', 's044', 's046', 's047', 's048', 's049', 's050', 's051', 's052', 's053', 's054', 's055', 's056', 's057']\n",
      "Quantidade de usuários únicos: 51\n"
     ]
    }
   ],
   "source": [
    "users = sorted(list(set(recordings[:,0])))\n",
    "print(\"Identificadores de usuários: {}\".format(users))\n",
    "print(\"Quantidade de usuários únicos: {}\".format(len(users)))"
   ]
  },
  {
   "cell_type": "markdown",
   "metadata": {},
   "source": [
    "Apliquemos a decomposição SVD nos dados como intermédio de redução de dimensionalidade para que possamos mostrar os pontos do dataset em um espaço 2D euclidiano."
   ]
  },
  {
   "cell_type": "code",
   "execution_count": 11,
   "metadata": {},
   "outputs": [],
   "source": [
    "np.random.seed(1234)\n",
    "np.random.shuffle(keystrokes)\n",
    "partial = keystrokes[:2000]"
   ]
  },
  {
   "cell_type": "code",
   "execution_count": 12,
   "metadata": {},
   "outputs": [
    {
     "data": {
      "text/plain": [
       "array([[ 0.1227,  0.3441,  0.2214, ...,  0.2655,  0.1832,  0.1084],\n",
       "       [ 0.0377,  0.5097,  0.472 , ...,  0.4406,  0.4013,  0.0364],\n",
       "       [ 0.0853,  0.1757,  0.0904, ...,  0.1929,  0.1121,  0.0829],\n",
       "       ..., \n",
       "       [ 0.0776,  0.3103,  0.2327, ...,  0.2907,  0.1917,  0.0945],\n",
       "       [ 0.0591,  0.265 ,  0.2059, ...,  0.5553,  0.4746,  0.0886],\n",
       "       [ 0.0657,  0.409 ,  0.3433, ...,  0.3733,  0.2881,  0.072 ]])"
      ]
     },
     "execution_count": 12,
     "metadata": {},
     "output_type": "execute_result"
    }
   ],
   "source": [
    "partial"
   ]
  },
  {
   "cell_type": "code",
   "execution_count": 13,
   "metadata": {},
   "outputs": [],
   "source": [
    "decomp = np.linalg.svd(partial)"
   ]
  },
  {
   "cell_type": "code",
   "execution_count": 15,
   "metadata": {},
   "outputs": [
    {
     "name": "stdout",
     "output_type": "stream",
     "text": [
      "(2000, 2000)\n",
      "(31,)\n",
      "(31, 31)\n"
     ]
    }
   ],
   "source": [
    "U, sigma, Vt = decomp\n",
    "print(U.shape)\n",
    "print(sigma.shape)\n",
    "print(Vt.shape)"
   ]
  },
  {
   "cell_type": "code",
   "execution_count": 17,
   "metadata": {},
   "outputs": [
    {
     "name": "stdout",
     "output_type": "stream",
     "text": [
      "[  5.37860351e+01   1.45971181e+01   1.39542872e+01   1.13840973e+01\n",
      "   9.56374289e+00   9.20264712e+00   7.71927016e+00   7.52113688e+00\n",
      "   6.41529380e+00   5.77067003e+00   5.50869931e+00   1.58892232e+00\n",
      "   1.37413431e+00   1.25452098e+00   1.12088379e+00   1.08756954e+00\n",
      "   9.80826384e-01   8.76163838e-01   8.50212712e-01   8.28806611e-01\n",
      "   7.73274781e-01   3.51964339e-14   1.44156497e-14   1.19870887e-14\n",
      "   7.79112368e-15   7.74209255e-15   5.80840869e-15   4.44215664e-15\n",
      "   4.44215664e-15   3.54364698e-15   2.97049823e-15]\n"
     ]
    },
    {
     "data": {
      "image/png": "[encoded data removed]",
      "text/plain": [
       "<matplotlib.figure.Figure at 0x7fa405387828>"
      ]
     },
     "metadata": {},
     "output_type": "display_data"
    }
   ],
   "source": [
    "print(sigma)\n",
    "plt.plot(sigma)\n",
    "plt.show()"
   ]
  },
  {
   "cell_type": "code",
   "execution_count": 30,
   "metadata": {},
   "outputs": [
    {
     "name": "stdout",
     "output_type": "stream",
     "text": [
      "[[ 53.7860351    0.           0.         ...,   0.           0.           0.        ]\n",
      " [  0.          14.59711807   0.         ...,   0.           0.           0.        ]\n",
      " [  0.           0.           0.         ...,   0.           0.           0.        ]\n",
      " ..., \n",
      " [  0.           0.           0.         ...,   0.           0.           0.        ]\n",
      " [  0.           0.           0.         ...,   0.           0.           0.        ]\n",
      " [  0.           0.           0.         ...,   0.           0.           0.        ]]\n"
     ]
    }
   ],
   "source": [
    "Sigma = np.zeros((2000, 31))\n",
    "Sigma[0][0] = sigma[0]\n",
    "Sigma[1][1] = sigma[1]\n",
    "print(Sigma)\n",
    "partial_2D = U.dot(Sigma.dot(Vt))"
   ]
  },
  {
   "cell_type": "code",
   "execution_count": 32,
   "metadata": {},
   "outputs": [
    {
     "data": {
      "text/plain": [
       "array([[ 0.10593932,  0.28981998,  0.18388065, ...,  0.39570382,\n",
       "         0.29056986,  0.09684534],\n",
       "       [ 0.10540816,  0.59793701,  0.49252884, ...,  0.57510955,\n",
       "         0.46858904,  0.10033266],\n",
       "       [ 0.04637591,  0.17384805,  0.12747214, ...,  0.20074853,\n",
       "         0.15443478,  0.04299782],\n",
       "       ..., \n",
       "       [ 0.07725431,  0.3062696 ,  0.22901529, ...,  0.34417939,\n",
       "         0.26692559,  0.07184089],\n",
       "       [ 0.06016892,  0.36243945,  0.30227053, ...,  0.34066169,\n",
       "         0.27972723,  0.05754285],\n",
       "       [ 0.08317183,  0.42905028,  0.34587845, ...,  0.42873909,\n",
       "         0.34495382,  0.0786184 ]])"
      ]
     },
     "execution_count": 32,
     "metadata": {},
     "output_type": "execute_result"
    }
   ],
   "source": [
    "partial_2D"
   ]
  }
 ],
 "metadata": {
  "kernelspec": {
   "display_name": "Python 3",
   "language": "python",
   "name": "python3"
  },
  "language_info": {
   "codemirror_mode": {
    "name": "ipython",
    "version": 3
   },
   "file_extension": ".py",
   "mimetype": "text/x-python",
   "name": "python",
   "nbconvert_exporter": "python",
   "pygments_lexer": "ipython3",
   "version": "3.6.4"
  }
 },
 "nbformat": 4,
 "nbformat_minor": 2
}
