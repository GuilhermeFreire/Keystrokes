{
 "cells": [
  {
   "cell_type": "markdown",
   "metadata": {},
   "source": [
    "# Análise de Usuários através de Keystrokes"
   ]
  },
  {
   "cell_type": "markdown",
   "metadata": {},
   "source": [
    "Nesse trabalho, busco explorar o quanto o modo como um usuário digita diz sobre ele. É possível dicerní-lo de outros apenas por seu padrão de digitação? Conseguimos agrupar usuários que digitam de forma parecida? O que mais é possível extrair de dados de telcas?"
   ]
  },
  {
   "cell_type": "markdown",
   "metadata": {},
   "source": [
    "## Motivação\n",
    "\n",
    "Qual a utilidade de ser se estudar padrões de digitação de um usuário?\n",
    "\n",
    "Assumindo que cada usuário tem um padrão de digitação único, ou pelo menos razoavelmente único, é possível pensar em uma tarefa de identificação. Sites como o Coursera utilizam esses dados justamente para julgar se um aluno realmente está fazendo os deveres do curso. Logo quando um usuário se cadastra, ele deve digitar um parágrafo para que um perfil associado seja criado. Esse perfil é então comparado posteriormente aos textos (códigos ou respostas discursivas) escritos pelo aluno. Por ser utilizado por tanto tempo na plataforma, podemos suspeitar que esse tipo de dado é um bom indicativo de unicidade.\n",
    "\n",
    "Outra aplicação possível é identificação de usuários fazendo login. Se um sistema for capaz de identificar o usuário pelo modo como digita, uma camada a mais de segurança pode ser criada. Afinal, não basta saber a senha da conta, é necessário digitar como o dono original digita. Dessa forma, fraudes por senhas vazadas, bancos de dados comprometidos, ou até mesmo senhas anotadas em _post-its_ no monitor podem ser evitadas.\n",
    "\n",
    "Para o caso de uso da senha é interessante notar um detalhe que é o não envio da senha em _plain text_ ao servidor verificador. É extremamente comum - se crucial para uma base mínima de segurança - que a senha de um usuário não trafegue a rede em _plain text_. Isso porque é muito fácil um malfeitor capturar dados transientes em uma rede (principalmente pública). Dessa forma, se a senha não tiver nenhum mecanismo de proteção, a conta do usuário estará comprometida.\n",
    "\n",
    "O que normalmente ocorre é o envio de um _hash_ da senha. O _hash_ nada mais é do que uma função que leva uma entrada a uma saída de forma simples, mas garante que a inversão (sabendo uma saída, encontrar a entrada correspondente) é uma tarefa árdua. Utilizando esse método, sites que permitem fazer login não precisam guardar as senhas de seus usuários, basta guardar os hashes das senhas. Afinal, como cada senha sempre produz o mesmo hash, é possível comparar hashes para saber se a senha está correta. Aplicando essa metodologia, mesmo que ocorra um vazamento de senhas ou uma senha seja fisgada em trânsito, o segredo está seguro. Apenas o hash foi comprometido e como dito acima, hashes são difíceis de reverter.\n",
    "\n",
    "O que isso implica na utilização de dados de digitação para verificação do usuário? Imediatamente, significa que não se pode utilizar as teclas nem os tempos de digitação entre elas para tirar tais conclusões. Afinal, se isso fosse utilizado, todo o propósito de não enviar a senha em _plain text_ estará perdido. Soluções mais criativas terão que ser utilizadas, como veremos a frente."
   ]
  },
  {
   "cell_type": "markdown",
   "metadata": {},
   "source": [
    "## Dataset\n",
    "\n",
    "Para começar a exploração desse tópico, escolhi um dataset famoso de dados de _keystrokes_. O dataset é conhecido como _CMU Keystroke Dynamics – Benchmark Data Set_.\n",
    "\n",
    "### Contrução do dataset\n",
    "\n",
    "Esse dataset foi montado com dados de 51 pessoas diferentes digitando a senha `.tie5Roanl` repetidas vezes. Ao todo foram 400 repetições por pessoa espaçadas em sessões distintas. Em cada sessão a pessoa digitava a senha 50 vezes, implicando num total de 8 sessões que foram feitas com pelo menos um dia de folga entre elas para capturar a variação de padrões de digitação ao longo de dias.\n",
    "\n",
    "### Dados coletados\n",
    "\n",
    "Resta, agora, sabermos que métricas foram efetivamente coletadas e armazenadas nesse dataset. Cada sessão de coleta captura três tipos de dados: `Hold`, `Down-Down`, `Up-Down`.\n",
    "\n",
    "![Métricas coletadas](data_explanation.jpg)\n",
    "\n",
    "- Hold: Mede o tempo que uma tecla foi pressionada (desde o momento que foi abaixada até quando é solta).\n",
    "- Down-Down: Mede o tempo entre uma tecla ser abaixada e a próxima ser abaixada.\n",
    "- Up-Down: Mede o tempo entre uma tecla ser solta e a próxima abaixada.\n",
    "\n",
    "Dessa forma, como o texto digitado foi `.tie5Roanl`, cada entrada do dataset será composta dos seguintes atributos:\n",
    "\n",
    "```\n",
    "subject,sessionIndex,rep,H.period,DD.period.t,UD.period.t,H.t,DD.t.i,UD.t.i, ... , H.n,DD.n.l,UD.n.l,H.l,DD.l.Return,UD.l.Return,H.Return\n",
    "```\n",
    "\n",
    "O primeiro parâmetro indica qual participante digitou essa entrada do dataset. O atributo `sessionIndex` indica a qual sessão essa captura faz parte e `rep` qual a repetição dentro dessa sessão. A partir desse ponto começam as medidas de tempo. O primeiro campo, `H.period`, indica o tempo que a tecla de _ponto final_ ficou pressionada (_Hold period_). Em seguida, temos `DD.period.t` que indica o tempo entre a tecla de _ponto final_ ser pressionada para baixo e a tecla `t` ser pressionada para baixo (_Down-Down period t_). Analogamente, `UD.period.t` mostra o tempo entre soltar o _ponto final_ e pressionar a tecla `t`. As mesmas três métricas se repetem para as próximas teclas da senha. É importante notar que a tecla `Enter` foi pressionada ao final da digitação e é expressa no dataset por meio do termo _Return_."
   ]
  },
  {
   "cell_type": "markdown",
   "metadata": {},
   "source": [
    "## Análise inicial dos dados\n",
    "\n",
    "Sabendo como o dataset foi construído, comecemos por tentar entender seus dados. Comecemos por uma redução de dimensionalidade para ser possível desenhar um plot 2D dos pontos. Com isso teremos alguma ideia de como os dados se comportam."
   ]
  },
  {
   "cell_type": "code",
   "execution_count": 1,
   "metadata": {},
   "outputs": [],
   "source": [
    "import numpy as np\n",
    "import matplotlib.pyplot as plt\n",
    "from copy import deepcopy"
   ]
  },
  {
   "cell_type": "markdown",
   "metadata": {},
   "source": [
    "Comecemos por ler os dados do arquivo em que estão salvos e separá-los por linhas. Aqui também jogaremos o cabeçalho fora, visto que não será utilizado nas manipulações e já temos uma descrição dos dados acima."
   ]
  },
  {
   "cell_type": "code",
   "execution_count": 2,
   "metadata": {},
   "outputs": [],
   "source": [
    "# Lendo dados do arquivo\n",
    "with open(\"DSL-StrongPasswordData.csv\") as f:\n",
    "    data = np.array([line.split(\",\") for line in f.read().strip().split(\"\\n\")[1:]])"
   ]
  },
  {
   "cell_type": "markdown",
   "metadata": {},
   "source": [
    "Agora, separemos os identificadores de usuários dos dados propriamente ditos."
   ]
  },
  {
   "cell_type": "code",
   "execution_count": 3,
   "metadata": {},
   "outputs": [
    {
     "name": "stdout",
     "output_type": "stream",
     "text": [
      "[['s040' '5' '44']\n",
      " ['s036' '7' '35']] \n",
      " [[ 0.1227  0.3441  0.2214  0.1071  0.1493  0.0422  0.106   0.3349  0.2289\n",
      "   0.153   0.73    0.577   0.0731  0.5698  0.4967  0.0839  0.3472  0.2633\n",
      "   0.1124  0.16    0.0476  0.1765  0.2884  0.1119  0.1097  0.3012  0.1915\n",
      "   0.0823  0.2655  0.1832  0.1084]\n",
      " [ 0.0377  0.5097  0.472   0.0475  0.2709  0.2234  0.0409  0.2883  0.2474\n",
      "   0.0457  0.4903  0.4446  0.042   0.4409  0.3989  0.0351  0.605   0.5699\n",
      "   0.0285  0.2008  0.1723  0.0525  0.3788  0.3263  0.0327  0.4781  0.4454\n",
      "   0.0393  0.4406  0.4013  0.0364]]\n"
     ]
    }
   ],
   "source": [
    "# Formatando os dados\n",
    "np.random.seed(1234)\n",
    "np.random.shuffle(data)\n",
    "recordings, keystrokes = data[:,:3], data[:,3:].astype(float)\n",
    "print(recordings[:2], \"\\n\", keystrokes[:2])"
   ]
  },
  {
   "cell_type": "markdown",
   "metadata": {},
   "source": [
    "Para termos certeza de que tudo está coerente no dataset, verifiquemos a quantidade de colunas da matriz e comparemos com o tamanho do que foi digitado."
   ]
  },
  {
   "cell_type": "code",
   "execution_count": 4,
   "metadata": {},
   "outputs": [
    {
     "name": "stdout",
     "output_type": "stream",
     "text": [
      "Número de teclas na digitação da senha: 11\n",
      "Número de colunas na matriz do dataset: 31\n"
     ]
    }
   ],
   "source": [
    "password = \".tie5Roanl\\n\" # Lembrando que o enter é pressionado ao final da senha\n",
    "print(\"Número de teclas na digitação da senha: {}\".format(len(password)))\n",
    "print(\"Número de colunas na matriz do dataset: {}\".format(keystrokes.shape[1]))"
   ]
  },
  {
   "cell_type": "markdown",
   "metadata": {},
   "source": [
    "Exatamente como o esperado. Afinal, temos três medições por tecla pressionada (exceto a última) e temos 11 teclas pressionadas. Como não há teclas após o `Enter`, essa tecla só terá a métrica de `Hold` medida. Isso totalizará em exatas **31 medições**, como imaginávamos."
   ]
  },
  {
   "cell_type": "markdown",
   "metadata": {},
   "source": [
    "Verifiquemos agora o número de usuários no dataset."
   ]
  },
  {
   "cell_type": "code",
   "execution_count": 5,
   "metadata": {},
   "outputs": [
    {
     "name": "stdout",
     "output_type": "stream",
     "text": [
      "Identificadores de usuários: ['s002', 's003', 's004', 's005', 's007', 's008', 's010', 's011', 's012', 's013', 's015', 's016', 's017', 's018', 's019', 's020', 's021', 's022', 's024', 's025', 's026', 's027', 's028', 's029', 's030', 's031', 's032', 's033', 's034', 's035', 's036', 's037', 's038', 's039', 's040', 's041', 's042', 's043', 's044', 's046', 's047', 's048', 's049', 's050', 's051', 's052', 's053', 's054', 's055', 's056', 's057']\n",
      "Quantidade de usuários únicos: 51\n"
     ]
    }
   ],
   "source": [
    "users = sorted(list(set(recordings[:,0])))\n",
    "print(\"Identificadores de usuários: {}\".format(users))\n",
    "print(\"Quantidade de usuários únicos: {}\".format(len(users)))"
   ]
  },
  {
   "cell_type": "markdown",
   "metadata": {},
   "source": [
    "Temos 51 usuários únicos, novamente como esperado."
   ]
  },
  {
   "cell_type": "markdown",
   "metadata": {},
   "source": [
    "## Redução de Dimensionalidade\n",
    "\n",
    "Para ganharmos uma intuição sobre comportamento de cada usuário, podemos tentar desenhar os pontos do dataset em um gráfico. Entretanto, como os dados são de dimensão 31, é preciso aplicar algum tipo de redução de dimensionalidade para que esse gráfico se torne possível."
   ]
  },
  {
   "cell_type": "markdown",
   "metadata": {},
   "source": [
    "### SVD\n",
    "\n",
    "Uma técnica que permite essa redução é o SVD (Singular Value Decomposition). Com o SVD conseguimos encontrar uma base boa para representar nossos dados. Não só isso, como também é possível verificar a importância de cada dimensão para a representação dos dados. Isso será importante para analisarmos a quantidade de informação que está sendo perdida com a simplificação dos dados."
   ]
  },
  {
   "cell_type": "markdown",
   "metadata": {},
   "source": [
    "Antes de fazermos qualquer manipulação com os dados, entretanto, é interessante normalizá-los."
   ]
  },
  {
   "cell_type": "code",
   "execution_count": 23,
   "metadata": {},
   "outputs": [],
   "source": [
    "mean = np.mean(keystrokes, axis=0)\n",
    "std = np.std(keystrokes, axis=0)\n",
    "\n",
    "norm_keystrokes = (keystrokes - mean) / std"
   ]
  },
  {
   "cell_type": "markdown",
   "metadata": {},
   "source": [
    "Uma vez com os dados normalizados, podemos prosseguir com a redução de dimensionalidade. A técnica de SVD decompõe uma matriz em três, $U$, $\\Sigma$ e $V^T$. Juntas elas tais matrizes formam a original de acordo com a relação $U \\Sigma V^T = M$, onde $M$ é a matriz original.\n",
    "\n",
    "Para compreendermos melhor o que o SVD faz com uma matriz, primeiro precisamos entender o que a matriz original significa. No caso desse dataset, cada linha da matriz $M$ representa um usuário e cada coluna uma métrica de digitação. Dessa forma, podemos enxergar a matriz $M$ como a matriz que nos leva de usuário para digitação. É importante manter essa relação em mente, pois se nos propusermos a fazer uma decomposição dessa matriz, é importante que essa relação se mantenha."
   ]
  },
  {
   "cell_type": "markdown",
   "metadata": {},
   "source": [
    "<b style=\"color:red;\">[imagem mostrando matriz que leva de usuários para digitação]</b>"
   ]
  },
  {
   "cell_type": "markdown",
   "metadata": {},
   "source": [
    "Como dito anteriormente, o SVD \"_procura uma base boa_\" para a representação dos dados. O que exatamente significa essa \"_base boa_\"?\n",
    "\n",
    "Por _base boa_, o algoritmo entende ser a base nas quais as dimensões capturam o máximo de informação possível. Em termos estatísticos, são as dimensões com maior variância dos dados."
   ]
  },
  {
   "cell_type": "markdown",
   "metadata": {},
   "source": [
    "<b style=\"color:red;\">[imagem mostrando pontos variando muito sobre um vetor e pouco sobre outros. Ao lado, imagem mostrando o eixo que melhor representa os dados. 2D -> 1D]</b>"
   ]
  },
  {
   "cell_type": "markdown",
   "metadata": {},
   "source": [
    "Dessa forma, se pegarmos apenas as dimensões com maior informação, seremos capazes de manter os dados quase íntegros e ao mesmo tempo reduzir sua dimensionalidade. Como no exemplo acima, vemos que os pontos variam muito na direção do vetor destacado. Significa que se projetarmos os pontos nesse vetor, poderemos representá-los - quase que fielmente - com apenas um número: a magnitude do deslocamento a partir da origem nessa direção. Dessa forma, reduzimos com sucesso dados originalmente em 2D para dados em 1D."
   ]
  },
  {
   "cell_type": "markdown",
   "metadata": {},
   "source": [
    "Agora, analisemos possíveis interpretações das matrizes resultantes do SVD no dataset de padrões de digitação. O algoritmo leva os pontos do dataset da base original para uma base ideal. Isso pode ser visto analisando o papel de cada matriz resultante."
   ]
  },
  {
   "cell_type": "code",
   "execution_count": 75,
   "metadata": {},
   "outputs": [],
   "source": [
    "U, Sigma, Vt = np.linalg.svd(norm_keystrokes)"
   ]
  },
  {
   "cell_type": "markdown",
   "metadata": {},
   "source": [
    "Começando por $U$, podemos interpretar seu papel como sendo a matriz que leva os usuários a esse espaço ideal encontrado pelo SVD. Em seguida, temos $\\Sigma$. Essa é a matriz responsável por escalar os pontos no espaço ideal de acordo com a _importância_ de cada dimensão nesse espaço. Finalmente temos $V^T$ que pode ser vista como a matriz que traz os dados de volta do espaço ideal para o espaço de digitação.\n",
    "\n",
    "Vendo a decomposição dessa forma, acabamos com a mesma interpretação da matriz original - uma matriz que leva de usuários para métricas de digitação. O grande ganho é que o SVD nos permite enxergar os dados em uma dimensão ideal intermediária. Nela, podemos fazer manipulações nos dados que nos permite, por exemplo, reduzir a dimensionalidade preservando o máximo de informação possível."
   ]
  },
  {
   "cell_type": "markdown",
   "metadata": {},
   "source": [
    "A \"importância\" de cada dimensão está atrelada à magnitude dos valores singulares da matriz $\\Sigma$. Vendo a relação desses valores podemos tirar conclusões sobre a dimensão real dos dados."
   ]
  },
  {
   "cell_type": "code",
   "execution_count": 78,
   "metadata": {},
   "outputs": [
    {
     "data": {
      "image/png": "[encoded data removed]",
      "text/plain": [
       "<matplotlib.figure.Figure at 0x7ff91b7ced30>"
      ]
     },
     "metadata": {},
     "output_type": "display_data"
    }
   ],
   "source": [
    "plt.plot(Sigma)\n",
    "plt.scatter(np.arange(31), Sigma)\n",
    "plt.title(\"Valores Singulares do Dataset de Keystrokes\")\n",
    "plt.show()"
   ]
  },
  {
   "cell_type": "markdown",
   "metadata": {},
   "source": [
    "Olhando para esse gráfico, vemos de imediado que a partir da dimensão ideal 20 as outras dimensões praticamente não contribuem para a informação real dos dados. Em termos um pouco mais formais, praticamente não há variação dos dados ao longo das dimensões superiores à vigésima.\n",
    "\n",
    "Mais do que isso, é possível notar que as duas primeiras dimensões contribuem com a maior parte da informação dos dados. A partir da terceira, as dimensões ficam progressivamente menos relevantes de forma gradual.\n",
    "\n",
    "Isso tudo indica que nosso gráfico em 2D dos pontos conterá uma boa parte da informação do dataset original. Portanto será uma boa visualização dos dados."
   ]
  },
  {
   "cell_type": "markdown",
   "metadata": {},
   "source": [
    "Para fazermos esse gráfico em 2D dos pontos, basta lembrarmos da interpretação das matrizes resultantes da decompoisção. Queremos levar nossos pontos ao espaço ideal e ignorar todas as dimensões exceto as duas primeiras.\n",
    "\n",
    "O primeiro passo pode ser facilmente feito apenas com a matriz $U$ - afinal ela é a responsável por levar os pontos para o espaço ideal. Em seguida, basta zerarmos os valores singulares indesejáveis da matriz $\\Sigma$ que zeraremos as coordenadas indesejadas dos pontos."
   ]
  },
  {
   "cell_type": "code",
   "execution_count": 86,
   "metadata": {},
   "outputs": [
    {
     "name": "stdout",
     "output_type": "stream",
     "text": [
      "Matriz Sigma Reduzida:\n",
      " [[ 407.97342532    0.            0.         ...,    0.            0.            0.        ]\n",
      " [   0.          326.96957765    0.         ...,    0.            0.            0.        ]\n",
      " [   0.            0.            0.         ...,    0.            0.            0.        ]\n",
      " ..., \n",
      " [   0.            0.            0.         ...,    0.            0.            0.        ]\n",
      " [   0.            0.            0.         ...,    0.            0.            0.        ]\n",
      " [   0.            0.            0.         ...,    0.            0.            0.        ]]\n",
      "\n",
      "Dimensões de Sigma Reduzida: (20400, 31)\n"
     ]
    }
   ],
   "source": [
    "reduced_sigma = np.zeros((U.shape[1], Sigma.shape[0]))\n",
    "reduced_sigma[0,0] = Sigma[0]\n",
    "reduced_sigma[1,1] = Sigma[1]\n",
    "print(\"Matriz Sigma Reduzida:\\n\",reduced_sigma, end=\"\\n\\n\")\n",
    "print(\"Dimensões de Sigma Reduzida:\",reduced_sigma.shape)"
   ]
  },
  {
   "cell_type": "markdown",
   "metadata": {},
   "source": [
    "Como queremos ficar no espaço ideal, basta não incluirmos a matriz $V^T$ - cuja função é trazer os pontos de volta ao espaço original."
   ]
  },
  {
   "cell_type": "code",
   "execution_count": 109,
   "metadata": {},
   "outputs": [
    {
     "name": "stdout",
     "output_type": "stream",
     "text": [
      "[[ 0.79661649  3.14352362  0.         ...,  0.          0.          0.        ]\n",
      " [ 7.33690199 -2.98459802  0.         ...,  0.          0.          0.        ]\n",
      " [-0.41674256 -3.11857179  0.         ...,  0.          0.          0.        ]\n",
      " ..., \n",
      " [-1.29789951  1.33182584  0.         ...,  0.          0.          0.        ]\n",
      " [ 0.54700926  1.83758573  0.         ...,  0.          0.          0.        ]\n",
      " [ 1.03072995  1.17526715  0.         ...,  0.          0.          0.        ]]\n",
      "(20400, 31)\n"
     ]
    }
   ],
   "source": [
    "reduced_keystrokes = U @ reduced_sigma\n",
    "print(reduced_keystrokes)\n",
    "print(reduced_keystrokes.shape)"
   ]
  },
  {
   "cell_type": "markdown",
   "metadata": {},
   "source": [
    "Como podemos ver, zeramos as coordenadas menos relevantes com sucesso. Basta então usarmos as que sobraram para desenhar o gráfico."
   ]
  },
  {
   "cell_type": "code",
   "execution_count": 136,
   "metadata": {},
   "outputs": [
    {
     "data": {
      "image/png": "[encoded data removed]",
      "text/plain": [
       "<matplotlib.figure.Figure at 0x7ff91afb66a0>"
      ]
     },
     "metadata": {},
     "output_type": "display_data"
    }
   ],
   "source": [
    "colors = {\"s002\": \"#E32636\", \"s003\": \"#B0BF1A\", \"s004\": \"#7CB9E8\", \"s005\": \"#84DE02\", \"s007\": \"#EFDECD\", \"s008\": \"#00308F\", \"s010\": \"#0048BA\", \"s011\": \"#AF002A\", \"s012\": \"#C9FFE5\", \"s013\": \"#72A0C1\", \"s015\": \"#C46210\", \"s016\": \"#B284BE\", \"s017\": \"#E52B50\", \"s018\": \"#9F2B68\", \"s019\": \"#F19CBB\", \"s020\": \"#AB274F\", \"s021\": \"#D3212D\", \"s022\": \"#3B7A57\", \"s024\": \"#FFBF00\", \"s025\": \"#FF7E00\", \"s026\": \"#3B3B6D\", \"s027\": \"#391802\", \"s028\": \"#804040\", \"s029\": \"#D3AF37\", \"s030\": \"#34B334\", \"s031\": \"#FF8B00\", \"s032\": \"#FF9899\", \"s033\": \"#431C53\", \"s034\": \"#B32134\", \"s035\": \"#FF033E\", \"s036\": \"#CFCFCF\", \"s037\": \"#551B8C\", \"s038\": \"#F2B400\", \"s039\": \"#9966CC\", \"s040\": \"#A4C639\", \"s041\": \"#F2F3F4\", \"s042\": \"#CD9575\", \"s043\": \"#665D1E\", \"s044\": \"#915C83\", \"s046\": \"#841B2D\", \"s047\": \"#FAEBD7\", \"s048\": \"#008000\", \"s049\": \"#66B447\", \"s050\": \"#8DB600\", \"s051\": \"#FBCEB1\", \"s052\": \"#00FFFF\", \"s053\": \"#7FFFD4\", \"s054\": \"#D0FF14\", \"s055\": \"#C0C0C0\", \"s056\": \"#4B5320\", \"s057\": \"#3B444B\"}\n",
    "reduced_keystrokes_ = reduced_keystrokes[:,:2]\n",
    "\n",
    "vis_users = [\"s005\", \"s010\", \"s011\", \"s016\"]\n",
    "plt.figure(figsize=(10,10))\n",
    "for i, point in enumerate(reduced_keystrokes_):\n",
    "    #Para facilitar a visualização, faremos o plot de apenas quatro usuários\n",
    "    if recordings[i][0] in vis_users:\n",
    "        plt.scatter(point[0], point[1], c=colors[recordings[i][0]])\n",
    "plt.title(\"Dados de digitação dos usuários {}\".format(\", \".join(vis_users)))\n",
    "plt.show()"
   ]
  },
  {
   "cell_type": "markdown",
   "metadata": {},
   "source": [
    "Observando o gráfico, vemos que a redução de dimensionalidade realmente funcionou. Usando a técnica de SVD conseguimos visualizar as diferenças nos padrões de digitação das pessoas utilizadas na criação do dataset.\n",
    "\n",
    "Podemos ver que usando apenas duas dimensões não é sempre óbiva a distinção de cada par de usuários. No exemplo do gráfico acima, vemos uma clara separação entre os usuários azul, vermelho escuro e verde - com pontos concentrados em regiões diferentes do espaço. Já o usuário roxo, se mistura consideravelmente com o verde. Isso pode ser reflexo de uma possível proximidade do modo como ambos digitam, ou simplesmente uma limitação da visualização em 2D do dataset."
   ]
  },
  {
   "cell_type": "markdown",
   "metadata": {},
   "source": [
    "### Autoencoder\n",
    "\n",
    "Vimos uma forma de redução de dimensionalidade, o SVD. Entretanto, essa decomposição não é a única forma de se reduzir as dimensões de dados. Existe outro método muito popular conhecido como _Auto Encoder_."
   ]
  },
  {
   "cell_type": "markdown",
   "metadata": {},
   "source": [
    "A técnica de _Auto Encoder_ foi desenvolvida com a popularização de redes neurais no cenário acadêmico. Consiste de uma ideia muito simples. Se queremos reduzir a dimensionalidade de um tipo de dado, simplesmente o introduzimos em uma rede neural como input. Essa camada inicial é, então, conectada a camadas de dimensões menores até chegar na redução desejada. Por fim, o vetor com domensões da redução desejada é conectado a outras camadas, cada vez maiores, que o levam de volta para a quantidade de dimensões inicial."
   ]
  },
  {
   "cell_type": "markdown",
   "metadata": {},
   "source": [
    "![Estrutura de um Autoencoder](Autoencoder_structure.png)"
   ]
  },
  {
   "cell_type": "markdown",
   "metadata": {},
   "source": []
  },
  {
   "cell_type": "markdown",
   "metadata": {},
   "source": [
    "## Classificação\n",
    "Agora que temos um melhor entendimento dos dados do dataset, passemos à parte de classificação de dados."
   ]
  },
  {
   "cell_type": "code",
   "execution_count": 21,
   "metadata": {},
   "outputs": [
    {
     "name": "stdout",
     "output_type": "stream",
     "text": [
      "[ 1.5  1.5  1.5]\n",
      "[[-1. -1. -1.]\n",
      " [ 1.  1.  1.]]\n"
     ]
    }
   ],
   "source": [
    "s = np.std(a, axis=0)\n",
    "n = (a - m) / s\n",
    "print(s)\n",
    "print(n)"
   ]
  },
  {
   "cell_type": "code",
   "execution_count": 31,
   "metadata": {},
   "outputs": [
    {
     "name": "stdout",
     "output_type": "stream",
     "text": [
      "[[1 0 0 0]\n",
      " [0 2 0 0]\n",
      " [0 0 0 0]\n",
      " [0 0 0 0]] \n",
      "\n",
      " [[ 1  2  3  4]\n",
      " [ 5  6  7  8]\n",
      " [ 9 10 11 12]\n",
      " [13 14 15 16]]\n",
      "\n",
      " [[ 1  2  3  4]\n",
      " [10 12 14 16]\n",
      " [ 0  0  0  0]\n",
      " [ 0  0  0  0]]\n"
     ]
    }
   ],
   "source": [
    "a = np.diag([1,2,0,0])\n",
    "b = np.array([[1,2,3,4],[5,6,7,8],[9,10,11,12],[13,14,15,16]])\n",
    "c = a @ b\n",
    "print(a,\"\\n\\n\", b)\n",
    "print(\"\\n\",c)\n",
    "print(b )"
   ]
  },
  {
   "cell_type": "code",
   "execution_count": 44,
   "metadata": {},
   "outputs": [
    {
     "name": "stdout",
     "output_type": "stream",
     "text": [
      "[[1 0 0 0]\n",
      " [2 0 0 0]\n",
      " [0 1 0 0]\n",
      " [0 2 0 0]\n",
      " [0 1 1 0]\n",
      " [1 0 0 1]]\n",
      "\n",
      "[[  0.00000000e+00  -3.94599292e-01  -2.10455217e-01   0.00000000e+00\n",
      "    0.00000000e+00  -8.94427191e-01]\n",
      " [  0.00000000e+00  -7.89198585e-01  -4.20910435e-01   0.00000000e+00\n",
      "    0.00000000e+00   4.47213595e-01]\n",
      " [ -3.94599292e-01   0.00000000e+00   0.00000000e+00  -2.10455217e-01\n",
      "   -8.94427191e-01   0.00000000e+00]\n",
      " [ -7.89198585e-01   0.00000000e+00   0.00000000e+00  -4.20910435e-01\n",
      "    4.47213595e-01   0.00000000e+00]\n",
      " [ -4.70592172e-01   0.00000000e+00   0.00000000e+00   8.82350841e-01\n",
      "    0.00000000e+00   0.00000000e+00]\n",
      " [  0.00000000e+00  -4.70592172e-01   8.82350841e-01   0.00000000e+00\n",
      "    0.00000000e+00   1.11022302e-16]]\n",
      "\n",
      "[ 2.48848998  2.48848998  0.89856419  0.89856419]\n",
      "\n",
      "[[-0.         -0.98195639 -0.18910752  0.        ]\n",
      " [-0.98195639  0.         -0.         -0.18910752]\n",
      " [-0.18910752  0.          0.          0.98195639]\n",
      " [-0.         -0.18910752  0.98195639  0.        ]]\n",
      "\n",
      "[[ 2.48848998  0.          0.          0.        ]\n",
      " [ 0.          2.48848998  0.          0.        ]\n",
      " [ 0.          0.          0.89856419  0.        ]\n",
      " [ 0.          0.          0.          0.89856419]\n",
      " [ 0.          0.          0.          0.        ]\n",
      " [ 0.          0.          0.          0.        ]]\n",
      "================================================== \n",
      "\n",
      "\n",
      "[[  1.00000000e+00   0.00000000e+00   0.00000000e+00   1.66533454e-16]\n",
      " [  2.00000000e+00   0.00000000e+00   0.00000000e+00  -5.55111512e-17]\n",
      " [  0.00000000e+00   1.00000000e+00   5.55111512e-17   0.00000000e+00]\n",
      " [  0.00000000e+00   2.00000000e+00   0.00000000e+00   0.00000000e+00]\n",
      " [  0.00000000e+00   1.00000000e+00   1.00000000e+00   0.00000000e+00]\n",
      " [  1.00000000e+00   0.00000000e+00   0.00000000e+00   1.00000000e+00]]\n"
     ]
    }
   ],
   "source": [
    "t = np.array([[1,0,0,0],[2,0,0,0],[0,1,0,0],[0,2,0,0],[0,1,1,0],[1,0,0,1]])\n",
    "# t = t.T\n",
    "d = np.linalg.svd(t)\n",
    "print(t, end=\"\\n\\n\")\n",
    "print(d[0], d[1], d[2], sep=\"\\n\\n\", end=\"\\n\\n\")\n",
    "ss = np.zeros((6,4))\n",
    "# d[1][2] = 0\n",
    "# d[1][3] = 0\n",
    "for i, e in enumerate(d[1]):\n",
    "    ss[i,i] = e\n",
    "print(ss)\n",
    "print(\"=\"*50, \"\\n\\n\")\n",
    "print(d[0]@ss@d[2])"
   ]
  },
  {
   "cell_type": "code",
   "execution_count": 45,
   "metadata": {},
   "outputs": [],
   "source": [
    "partial = keystrokes[:2000]"
   ]
  },
  {
   "cell_type": "code",
   "execution_count": 46,
   "metadata": {},
   "outputs": [
    {
     "data": {
      "text/plain": [
       "array([[ 0.1227,  0.3441,  0.2214, ...,  0.2655,  0.1832,  0.1084],\n",
       "       [ 0.0377,  0.5097,  0.472 , ...,  0.4406,  0.4013,  0.0364],\n",
       "       [ 0.0853,  0.1757,  0.0904, ...,  0.1929,  0.1121,  0.0829],\n",
       "       ..., \n",
       "       [ 0.0776,  0.3103,  0.2327, ...,  0.2907,  0.1917,  0.0945],\n",
       "       [ 0.0591,  0.265 ,  0.2059, ...,  0.5553,  0.4746,  0.0886],\n",
       "       [ 0.0657,  0.409 ,  0.3433, ...,  0.3733,  0.2881,  0.072 ]])"
      ]
     },
     "execution_count": 46,
     "metadata": {},
     "output_type": "execute_result"
    }
   ],
   "source": [
    "partial"
   ]
  },
  {
   "cell_type": "code",
   "execution_count": 47,
   "metadata": {},
   "outputs": [],
   "source": [
    "decomp = np.linalg.svd(partial)"
   ]
  },
  {
   "cell_type": "code",
   "execution_count": 48,
   "metadata": {},
   "outputs": [
    {
     "name": "stdout",
     "output_type": "stream",
     "text": [
      "(2000, 2000)\n",
      "(31,)\n",
      "(31, 31)\n"
     ]
    }
   ],
   "source": [
    "U, sigma, Vt = decomp\n",
    "print(U.shape)\n",
    "print(sigma.shape)\n",
    "print(Vt.shape)"
   ]
  },
  {
   "cell_type": "code",
   "execution_count": 49,
   "metadata": {},
   "outputs": [
    {
     "name": "stdout",
     "output_type": "stream",
     "text": [
      "[  5.37860351e+01   1.45971181e+01   1.39542872e+01   1.13840973e+01\n",
      "   9.56374289e+00   9.20264712e+00   7.71927016e+00   7.52113688e+00\n",
      "   6.41529380e+00   5.77067003e+00   5.50869931e+00   1.58892232e+00\n",
      "   1.37413431e+00   1.25452098e+00   1.12088379e+00   1.08756954e+00\n",
      "   9.80826384e-01   8.76163838e-01   8.50212712e-01   8.28806611e-01\n",
      "   7.73274781e-01   3.51964339e-14   1.44156497e-14   1.19870887e-14\n",
      "   7.79112368e-15   7.74209255e-15   5.80840869e-15   4.44215664e-15\n",
      "   4.44215664e-15   3.54364698e-15   2.97049823e-15]\n"
     ]
    },
    {
     "data": {
      "image/png": "[encoded data removed]",
      "text/plain": [
       "<matplotlib.figure.Figure at 0x7ff91d897320>"
      ]
     },
     "metadata": {},
     "output_type": "display_data"
    }
   ],
   "source": [
    "print(sigma)\n",
    "plt.plot(sigma)\n",
    "plt.show()"
   ]
  },
  {
   "cell_type": "code",
   "execution_count": 50,
   "metadata": {},
   "outputs": [
    {
     "name": "stdout",
     "output_type": "stream",
     "text": [
      "[[ 53.7860351    0.           0.         ...,   0.           0.           0.        ]\n",
      " [  0.          14.59711807   0.         ...,   0.           0.           0.        ]\n",
      " [  0.           0.           0.         ...,   0.           0.           0.        ]\n",
      " ..., \n",
      " [  0.           0.           0.         ...,   0.           0.           0.        ]\n",
      " [  0.           0.           0.         ...,   0.           0.           0.        ]\n",
      " [  0.           0.           0.         ...,   0.           0.           0.        ]]\n",
      "[[ -6.75936637e-02  -2.49557191e-01]\n",
      " [ -1.83758381e-02   4.50418569e-01]\n",
      " [  1.78634943e-02   1.04421094e-01]\n",
      " [ -6.48506372e-02   4.12272012e-01]\n",
      " [  1.63725324e-01   2.09097054e-01]\n",
      " [ -1.31253972e-01   2.51447174e-02]\n",
      " [  7.42528957e-02   8.41307492e-02]\n",
      " [ -3.02612331e-02  -1.04679674e-01]\n",
      " [  5.76043880e-02   2.65105431e-02]\n",
      " [ -6.14543112e-02  -2.18016951e-02]\n",
      " [  5.57318797e-02   4.99800247e-02]\n",
      " [ -2.57013496e-01  -1.26424121e-01]\n",
      " [  3.85613053e-01   1.98459893e-01]\n",
      " [  7.74264202e-02   4.40429441e-02]\n",
      " [  3.85448027e-01   1.96395380e-01]\n",
      " [  9.79429630e-02   5.08728620e-02]\n",
      " [ -4.20698848e-01  -2.14278003e-01]\n",
      " [ -1.84091623e-01  -9.11536096e-02]\n",
      " [ -7.16081119e-02  -3.72812831e-02]\n",
      " [ -2.48134977e-02  -1.25010711e-02]\n",
      " [ -3.22447406e-02  -1.82936452e-02]\n",
      " [ -1.69083877e-01   1.69083877e-01]\n",
      " [ -5.52036209e-01   5.52036209e-01]\n",
      " [ -0.00000000e+00  -9.29213601e-15]\n",
      " [  0.00000000e+00   2.26755533e-15]\n",
      " [  0.00000000e+00   2.07052325e-15]\n",
      " [  0.00000000e+00  -7.88690537e-16]\n",
      " [  0.00000000e+00   1.32282085e-16]\n",
      " [  0.00000000e+00  -2.35208761e-16]\n",
      " [  0.00000000e+00  -8.93876480e-16]\n",
      " [  0.00000000e+00   1.47847935e-15]]\n",
      "[[ 0.10593932  0.28981998]\n",
      " [ 0.10540816  0.59793701]\n",
      " [ 0.04637591  0.17384805]\n",
      " ..., \n",
      " [ 0.07725431  0.3062696 ]\n",
      " [ 0.06016892  0.36243945]\n",
      " [ 0.08317183  0.42905028]]\n"
     ]
    }
   ],
   "source": [
    "Sigma = np.zeros((2000, 31))\n",
    "Sigma[0][0] = sigma[0]\n",
    "Sigma[1][1] = sigma[1]\n",
    "print(Sigma)\n",
    "\n",
    "Vt_2D = np.zeros((Vt.shape[0],2))\n",
    "Vt_2D[:,:2] = Vt[:,:2]\n",
    "print(Vt_2D)\n",
    "\n",
    "partial_2D = U.dot(Sigma.dot(Vt_2D))\n",
    "print(partial_2D)"
   ]
  },
  {
   "cell_type": "code",
   "execution_count": 55,
   "metadata": {},
   "outputs": [
    {
     "name": "stdout",
     "output_type": "stream",
     "text": [
      "[[ 53.7860351    0.           0.         ...,   0.           0.           0.        ]\n",
      " [  0.          14.59711807   0.         ...,   0.           0.           0.        ]\n",
      " [  0.           0.           0.         ...,   0.           0.           0.        ]\n",
      " ..., \n",
      " [  0.           0.           0.         ...,   0.           0.           0.        ]\n",
      " [  0.           0.           0.         ...,   0.           0.           0.        ]\n",
      " [  0.           0.           0.         ...,   0.           0.           0.        ]]\n",
      "[[-1.51415386 -0.19548041]\n",
      " [-1.66894887  0.40282269]\n",
      " [-0.68747665  0.0050693 ]\n",
      " ..., \n",
      " [-1.15396163  0.04060706]\n",
      " [-0.96374844  0.27070175]\n",
      " [-1.29445221  0.2353598 ]]\n",
      "(2000, 2)\n"
     ]
    }
   ],
   "source": [
    "print(Sigma)\n",
    "pp_2D = U@Sigma[:,:2]\n",
    "print(pp_2D)\n",
    "print(pp_2D.shape)"
   ]
  },
  {
   "cell_type": "code",
   "execution_count": 57,
   "metadata": {},
   "outputs": [],
   "source": [
    "colors = {\n",
    "    \"s002\": \"#0048BA\",\n",
    "    \"s003\": \"#B0BF1A\",\n",
    "    \"s004\": \"#7CB9E8\",\n",
    "    \"s005\": \"#C9FFE5\",\n",
    "    \"s007\": \"#B284BE\",\n",
    "    \"s008\": \"#00308F\",\n",
    "    \"s010\": \"#72A0C1\",\n",
    "    \"s011\": \"#AF002A\",\n",
    "    \"s012\": \"#84DE02\",\n",
    "    \"s013\": \"#E32636\",\n",
    "    \"s015\": \"#C46210\",\n",
    "    \"s016\": \"#EFDECD\",\n",
    "    \"s017\": \"#E52B50\",\n",
    "    \"s018\": \"#9F2B68\",\n",
    "    \"s019\": \"#F19CBB\",\n",
    "    \"s020\": \"#AB274F\",\n",
    "    \"s021\": \"#D3212D\",\n",
    "    \"s022\": \"#3B7A57\",\n",
    "    \"s024\": \"#FFBF00\",\n",
    "    \"s025\": \"#FF7E00\",\n",
    "    \"s026\": \"#3B3B6D\",\n",
    "    \"s027\": \"#391802\",\n",
    "    \"s028\": \"#804040\",\n",
    "    \"s029\": \"#D3AF37\",\n",
    "    \"s030\": \"#34B334\",\n",
    "    \"s031\": \"#FF8B00\",\n",
    "    \"s032\": \"#FF9899\",\n",
    "    \"s033\": \"#431C53\",\n",
    "    \"s034\": \"#B32134\",\n",
    "    \"s035\": \"#FF033E\",\n",
    "    \"s036\": \"#CFCFCF\",\n",
    "    \"s037\": \"#551B8C\",\n",
    "    \"s038\": \"#F2B400\",\n",
    "    \"s039\": \"#9966CC\",\n",
    "    \"s040\": \"#A4C639\",\n",
    "    \"s041\": \"#F2F3F4\",\n",
    "    \"s042\": \"#CD9575\",\n",
    "    \"s043\": \"#665D1E\",\n",
    "    \"s044\": \"#915C83\",\n",
    "    \"s046\": \"#841B2D\",\n",
    "    \"s047\": \"#FAEBD7\",\n",
    "    \"s048\": \"#008000\",\n",
    "    \"s049\": \"#66B447\",\n",
    "    \"s050\": \"#8DB600\",\n",
    "    \"s051\": \"#FBCEB1\",\n",
    "    \"s052\": \"#00FFFF\",\n",
    "    \"s053\": \"#7FFFD4\",\n",
    "    \"s054\": \"#D0FF14\",\n",
    "    \"s055\": \"#C0C0C0\",\n",
    "    \"s056\": \"#4B5320\",\n",
    "    \"s057\": \"#3B444B\"\n",
    "}"
   ]
  },
  {
   "cell_type": "code",
   "execution_count": 61,
   "metadata": {},
   "outputs": [
    {
     "data": {
      "image/png": "[encoded data removed]",
      "text/plain": [
       "<matplotlib.figure.Figure at 0x7ff919bf0f28>"
      ]
     },
     "metadata": {},
     "output_type": "display_data"
    }
   ],
   "source": [
    "plt.figure(figsize=(20,20))\n",
    "for i, point in enumerate(partial_2D):\n",
    "    if recordings[i][0] == \"s002\" or recordings[i][0] == \"s004\":\n",
    "        plt.scatter(point[0], point[1], c=colors[recordings[i][0]])\n",
    "plt.show()"
   ]
  },
  {
   "cell_type": "code",
   "execution_count": 74,
   "metadata": {},
   "outputs": [
    {
     "data": {
      "image/png": "[encoded data removed]",
      "text/plain": [
       "<matplotlib.figure.Figure at 0x7ff91b5ff860>"
      ]
     },
     "metadata": {},
     "output_type": "display_data"
    }
   ],
   "source": [
    "plt.figure(figsize=(20,20))\n",
    "for i, point in enumerate(pp_2D):\n",
    "    if recordings[i][0] == \"s002\" or recordings[i][0] == \"s013\" or recordings[i][0] == \"s011\" or recordings[i][0] == \"s015\":\n",
    "        plt.scatter(point[0], point[1], c=colors[recordings[i][0]])\n",
    "plt.show()"
   ]
  },
  {
   "cell_type": "code",
   "execution_count": 13,
   "metadata": {},
   "outputs": [
    {
     "data": {
      "text/plain": [
       "array([[ 0.10593932,  0.28981998],\n",
       "       [ 0.10540816,  0.59793701],\n",
       "       [ 0.04637591,  0.17384805],\n",
       "       ..., \n",
       "       [ 0.07725431,  0.3062696 ],\n",
       "       [ 0.06016892,  0.36243945],\n",
       "       [ 0.08317183,  0.42905028]])"
      ]
     },
     "execution_count": 13,
     "metadata": {},
     "output_type": "execute_result"
    }
   ],
   "source": [
    "partial_2D"
   ]
  }
 ],
 "metadata": {
  "kernelspec": {
   "display_name": "Python 3",
   "language": "python",
   "name": "python3"
  },
  "language_info": {
   "codemirror_mode": {
    "name": "ipython",
    "version": 3
   },
   "file_extension": ".py",
   "mimetype": "text/x-python",
   "name": "python",
   "nbconvert_exporter": "python",
   "pygments_lexer": "ipython3",
   "version": "3.6.4"
  }
 },
 "nbformat": 4,
 "nbformat_minor": 2
}
